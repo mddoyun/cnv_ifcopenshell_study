{
 "cells": [
  {
   "cell_type": "markdown",
   "id": "46e15170",
   "metadata": {},
   "source": []
  },
  {
   "cell_type": "markdown",
   "id": "187bc681",
   "metadata": {},
   "source": [
    "# Selector syntax\n",
    "\n",
    "A common task in querying IFC models is to filter or search for elements which match particular criteria.\n",
    "For example, you might want to find all plasterboard walls with a 2 hour fire rating on level 3.\n",
    "\n",
    "Alternatively, you might want to fetch some data about a single element.\n",
    "For example, you might want to fetch the fire rating property of an element, or the type description of an element, or the net volume of a list of elements.\n",
    "\n",
    "Once you've retreived your data, you might want to format it in some way.\n",
    "You might want to ensure that all names are always uppercase.\n",
    "Or you might want to take length values defined in feet, and apply imperial formatting such that it shows both feet and inces including fractions.\n",
    "\n",
    "These three usecases of filtering, getting a value, and formatting that value are common and used in many utilities, such as in Bonsai, IfcCSV, IfcDiff, IfcClash, IfcPatch, and IfcFM.\n",
    "\n",
    "IfcOpenShell provides a custom syntax to consistently and concisely describe filters, value queries, and formatting rules."
   ]
  },
  {
   "cell_type": "markdown",
   "id": "3e46eff0",
   "metadata": {},
   "source": []
  },
  {
   "cell_type": "markdown",
   "id": "0ff963f2",
   "metadata": {},
   "source": [
    "## Filtering elements\n",
    "Filtering is typically used to select any IFC element or type."
   ]
  },
  {
   "cell_type": "code",
   "execution_count": null,
   "id": "082ad60d",
   "metadata": {},
   "outputs": [],
   "source": [
    "import ifcopenshell\n"
   ]
  },
  {
   "cell_type": "code",
   "execution_count": null,
   "id": "9acf6dcb",
   "metadata": {
    "vscode": {
     "languageId": "plaintext"
    }
   },
   "outputs": [],
   "source": []
  }
 ],
 "metadata": {
  "language_info": {
   "name": "python"
  }
 },
 "nbformat": 4,
 "nbformat_minor": 5
}
