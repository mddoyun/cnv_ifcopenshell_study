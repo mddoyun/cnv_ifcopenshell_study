{
 "cells": [
  {
   "cell_type": "markdown",
   "id": "46e15170",
   "metadata": {},
   "source": []
  },
  {
   "cell_type": "markdown",
   "id": "187bc681",
   "metadata": {},
   "source": [
    "# Selector syntax\n",
    "\n",
    "A common task in querying IFC models is to filter or search for elements which match particular criteria.\n",
    "For example, you might want to find all plasterboard walls with a 2 hour fire rating on level 3.\n",
    "\n",
    "Alternatively, you might want to fetch some data about a single element.\n",
    "For example, you might want to fetch the fire rating property of an element, or the type description of an element, or the net volume of a list of elements.\n",
    "\n",
    "Once you've retreived your data, you might want to format it in some way.\n",
    "You might want to ensure that all names are always uppercase.\n",
    "Or you might want to take length values defined in feet, and apply imperial formatting such that it shows both feet and inces including fractions.\n",
    "\n",
    "These three usecases of filtering, getting a value, and formatting that value are common and used in many utilities, such as in Bonsai, IfcCSV, IfcDiff, IfcClash, IfcPatch, and IfcFM.\n",
    "\n",
    "IfcOpenShell provides a custom syntax to consistently and concisely describe filters, value queries, and formatting rules."
   ]
  },
  {
   "cell_type": "markdown",
   "id": "3e46eff0",
   "metadata": {},
   "source": []
  },
  {
   "cell_type": "markdown",
   "id": "0ff963f2",
   "metadata": {},
   "source": [
    "## Filtering elements\n",
    "Filtering is typically used to select any IFC element or type."
   ]
  },
  {
   "cell_type": "code",
   "execution_count": 8,
   "id": "082ad60d",
   "metadata": {},
   "outputs": [
    {
     "name": "stdout",
     "output_type": "stream",
     "text": [
      "model :  <ifcopenshell.file.file object at 0x00000180B2F12D10>\n",
      "filter1: {#1367=IfcWall('2f1xERKnP3kP8fXar5PVG6',$,'Wall',$,$,#1379,#1374,$,$)}\n",
      "filter2: {#1220=IfcWall('3Grk8JCXL0Wv356Wrvw3Rc',$,'Wall',$,$,#1233,#1228,$,$), #1260=IfcWall('35F5CL57950QiWGSf0h46R',$,'Wall',$,$,#1289,#1271,$,$), #1290=IfcWall('0DQDe5D6D5Ivc$xa5BzwQ3',$,'Wall',$,$,#1319,#1301,$,$), #1367=IfcWall('2f1xERKnP3kP8fXar5PVG6',$,'Wall',$,$,#1379,#1374,$,$)}\n",
      "filter3: {#1260=IfcWall('35F5CL57950QiWGSf0h46R',$,'Wall',$,$,#1289,#1271,$,$), #1290=IfcWall('0DQDe5D6D5Ivc$xa5BzwQ3',$,'Wall',$,$,#1319,#1301,$,$)}\n"
     ]
    }
   ],
   "source": [
    "import ifcopenshell\n",
    "import ifcopenshell.util.selector\n",
    "\n",
    "model = ifcopenshell.open(\"sample.ifc\")\n",
    "print(\"model : \",model)\n",
    "\n",
    "# Get all concrete walls and slabs.\n",
    "filter1 = ifcopenshell.util.selector.filter_elements(model,\"IfcWall,material=concrete\")\n",
    "filter2 = ifcopenshell.util.selector.filter_elements(model,\"IfcWall\")\n",
    "filter3 = ifcopenshell.util.selector.filter_elements(model,\"My_Data.cnv_class=distraction\")\n",
    "print(\"filter1:\", filter1)\n",
    "print(\"filter2:\", filter2)\n",
    "print(\"filter3:\",filter3)\n",
    "\n"
   ]
  },
  {
   "cell_type": "code",
   "execution_count": null,
   "id": "9acf6dcb",
   "metadata": {},
   "outputs": [],
   "source": []
  }
 ],
 "metadata": {
  "kernelspec": {
   "display_name": ".cnv_ifcopenshell_study",
   "language": "python",
   "name": "python3"
  },
  "language_info": {
   "codemirror_mode": {
    "name": "ipython",
    "version": 3
   },
   "file_extension": ".py",
   "mimetype": "text/x-python",
   "name": "python",
   "nbconvert_exporter": "python",
   "pygments_lexer": "ipython3",
   "version": "3.11.9"
  }
 },
 "nbformat": 4,
 "nbformat_minor": 5
}
