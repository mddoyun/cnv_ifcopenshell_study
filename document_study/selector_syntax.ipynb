{
 "cells": [
  {
   "cell_type": "markdown",
   "id": "46e15170",
   "metadata": {},
   "source": []
  },
  {
   "cell_type": "markdown",
   "id": "187bc681",
   "metadata": {},
   "source": [
    "# Selector syntax\n",
    "\n",
    "A common task in querying IFC models is to filter or search for elements which match particular criteria.\n",
    "For example, you might want to find all plasterboard walls with a 2 hour fire rating on level 3.\n",
    "\n",
    "Alternatively, you might want to fetch some data about a single element.\n",
    "For example, you might want to fetch the fire rating property of an element, or the type description of an element, or the net volume of a list of elements.\n",
    "\n",
    "Once you've retreived your data, you might want to format it in some way."
   ]
  },
  {
   "cell_type": "code",
   "execution_count": null,
   "id": "27790b8d",
   "metadata": {
    "vscode": {
     "languageId": "plaintext"
    }
   },
   "outputs": [],
   "source": []
  },
  {
   "cell_type": "markdown",
   "id": "3e46eff0",
   "metadata": {},
   "source": []
  }
 ],
 "metadata": {
  "language_info": {
   "name": "python"
  }
 },
 "nbformat": 4,
 "nbformat_minor": 5
}
