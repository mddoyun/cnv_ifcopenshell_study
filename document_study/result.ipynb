{
 "cells": [
  {
   "cell_type": "markdown",
   "id": "0a16f212",
   "metadata": {},
   "source": [
    "## 필요 라이브러리 로드"
   ]
  },
  {
   "cell_type": "code",
   "execution_count": 35,
   "id": "1c5a6095",
   "metadata": {},
   "outputs": [],
   "source": [
    "import ifcopenshell\n",
    "import ifcopenshell.geom\n",
    "import ifcopenshell.util.shape\n",
    "import ifcopenshell.util.selector\n",
    "import numpy as np\n",
    "import multiprocessing\n",
    "import math\n",
    "import open3d as o3d\n"
   ]
  },
  {
   "cell_type": "markdown",
   "id": "b38d9141",
   "metadata": {},
   "source": [
    "## ifc 파일 로드"
   ]
  },
  {
   "cell_type": "code",
   "execution_count": 36,
   "id": "4313e53a",
   "metadata": {},
   "outputs": [
    {
     "name": "stdout",
     "output_type": "stream",
     "text": [
      "ifc_file :  <ifcopenshell.file.file object at 0x0000012EFAE4B6D0>\n"
     ]
    }
   ],
   "source": [
    "ifc_file = ifcopenshell.open('sample.ifc')\n",
    "print('ifc_file : ', ifc_file)"
   ]
  },
  {
   "cell_type": "markdown",
   "id": "0ac0abda",
   "metadata": {},
   "source": [
    "## Target 객체 찾기"
   ]
  },
  {
   "cell_type": "code",
   "execution_count": 37,
   "id": "e170b9e9",
   "metadata": {},
   "outputs": [
    {
     "name": "stdout",
     "output_type": "stream",
     "text": [
      "{#1220=IfcWall('3Grk8JCXL0Wv356Wrvw3Rc',$,'Wall',$,$,#1866,#1228,$,$)}\n"
     ]
    }
   ],
   "source": [
    "list_of_target = ifcopenshell.util.selector.filter_elements(ifc_file, \"My_Data.cnv_class=target\")\n",
    "print(list_of_target)"
   ]
  },
  {
   "cell_type": "markdown",
   "id": "294d9de5",
   "metadata": {},
   "source": [
    "## Target 객체 위치 좌표점 가져오기"
   ]
  },
  {
   "cell_type": "code",
   "execution_count": null,
   "id": "62b580b1",
   "metadata": {},
   "outputs": [
    {
     "name": "stdout",
     "output_type": "stream",
     "text": [
      "--------- 1 번째 Target객체 ---------\n",
      "Name :  Wall\n",
      "Location: (0.0, 0.0, 0.5)\n",
      "(1.0, 0.0, 0.1)\n",
      "(0.985, 0.174, 0.1)\n",
      "(0.94, 0.342, 0.1)\n",
      "(0.866, 0.5, 0.1)\n",
      "(0.766, 0.643, 0.1)\n",
      "(0.643, 0.766, 0.1)\n",
      "(0.5, 0.866, 0.1)\n",
      "(0.342, 0.94, 0.1)\n",
      "(0.174, 0.985, 0.1)\n",
      "(0.0, 1.0, 0.1)\n",
      "(-0.174, 0.985, 0.1)\n",
      "(-0.342, 0.94, 0.1)\n",
      "(-0.5, 0.866, 0.1)\n",
      "(-0.643, 0.766, 0.1)\n",
      "(-0.766, 0.643, 0.1)\n",
      "(-0.866, 0.5, 0.1)\n",
      "(-0.94, 0.342, 0.1)\n",
      "(-0.985, 0.174, 0.1)\n",
      "(-1.0, 0.0, 0.1)\n",
      "(-0.985, -0.174, 0.1)\n",
      "(-0.94, -0.342, 0.1)\n",
      "(-0.866, -0.5, 0.1)\n",
      "(-0.766, -0.643, 0.1)\n",
      "(-0.643, -0.766, 0.1)\n",
      "(-0.5, -0.866, 0.1)\n",
      "(-0.342, -0.94, 0.1)\n",
      "(-0.174, -0.985, 0.1)\n",
      "(-0.0, -1.0, 0.1)\n",
      "(0.174, -0.985, 0.1)\n",
      "(0.342, -0.94, 0.1)\n",
      "(0.5, -0.866, 0.1)\n",
      "(0.643, -0.766, 0.1)\n",
      "(0.766, -0.643, 0.1)\n",
      "(0.866, -0.5, 0.1)\n",
      "(0.94, -0.342, 0.1)\n",
      "(0.985, -0.174, 0.1)\n",
      "간섭 수: 13\n"
     ]
    }
   ],
   "source": [
    "# 변수 설정\n",
    "RAY_COUNT = 360\n",
    "RAY_LENGTH = 50 #(m기준)\n"
   ]
  },
  {
   "cell_type": "code",
   "execution_count": null,
   "id": "9e0d4d5b",
   "metadata": {},
   "outputs": [],
   "source": [
    "\n",
    "# geom 세팅 생성\n",
    "settings = ifcopenshell.geom.settings()\n",
    "settings.set(settings.USE_WORLD_COORDS, True)\n",
    "\n",
    "# geom tree (ray) 세팅\n",
    "tree = ifcopenshell.geom.tree()\n",
    "settings = ifcopenshell.geom.settings()\n",
    "iterator = ifcopenshell.geom.iterator(settings, ifc_file, multiprocessing.cpu_count())\n",
    "if iterator.initialize():\n",
    "    while True:\n",
    "        # Use triangulation to build a BVH tree\n",
    "        # tree.add_element(iterator.get())\n",
    "\n",
    "        # Alternatively, use this code to build an unbalanced binary tree\n",
    "        tree.add_element(iterator.get_native())\n",
    "\n",
    "        if not iterator.next():\n",
    "            break\n",
    "\n",
    "# Target 객체 반복\n",
    "i = 1\n",
    "cross_list_list =[]\n",
    "for element in list_of_target:\n",
    "    print(\"---------\",i,\"번째 Target객체 ---------\")\n",
    "    print(\"Name : \", element.Name)\n",
    "    # shape 가져오기\n",
    "    shape = ifcopenshell.geom.create_shape(settings, element)\n",
    "    geometry = shape.geometry\n",
    "    matrix = ifcopenshell.util.shape.get_shape_matrix(shape)\n",
    "    location = matrix[:,3][0:3]    \n",
    "    verts = np.array(geometry.verts).reshape(-1,3)\n",
    "    \n",
    "    # 튜플 형태로 변환 (예: (0., 0., 0.))\n",
    "    location_tuple = tuple(map(float, location))\n",
    "    print(\"Location:\", location_tuple)\n",
    "\n",
    "    # ray 반복\n",
    "    cross_count = 0\n",
    "\n",
    "    cross_list = []\n",
    "    for j in range(RAY_COUNT):\n",
    "        angle_deg = j * (360 / RAY_COUNT)\n",
    "        angle_rad = math.radians(angle_deg)\n",
    "\n",
    "        # direction 벡터 계산 (XY 평면에서 Z는 0)\n",
    "        direction = (math.cos(angle_rad), math.sin(angle_rad), 0.1)\n",
    "        print(tuple(round(x, 3) for x in direction))\n",
    "        # 정규화 (단위 벡터 보장)\n",
    "        norm = math.sqrt(direction[0]**2 + direction[1]**2)\n",
    "        direction = (direction[0]/norm, direction[1]/norm, 0.1)\n",
    "\n",
    "        # ray 쏘기\n",
    "        results = tree.select_ray(location_tuple, direction, length=RAY_LENGTH)\n",
    "        if len(results) > 0:\n",
    "            cross_list.append(1)\n",
    "            cross_count += 1\n",
    "        else:\n",
    "            cross_list.append(0)\n",
    "    cross_list_list.append(cross_list)\n",
    "    print('간섭 수:', cross_count)\n",
    "\n",
    "    # for result in results:\n",
    "    #     print(ifc_file.by_id(result.instance.id())) # The element the ray intersects with\n",
    "    #     # print(list(result.position)) # The XYZ intersection point\n",
    "    #     print(result.distance) # The distance between the ray origin and the intersection\n",
    "    #     # print(list(result.normal)) # The normal of the face being intersected\n",
    "    #     print(result.dot_product) # The dot product of the face being intersected with the ray\n",
    "\n",
    "\n",
    "\n",
    "    "
   ]
  },
  {
   "cell_type": "markdown",
   "id": "8118736e",
   "metadata": {},
   "source": [
    "## 시각화 테스트"
   ]
  },
  {
   "cell_type": "code",
   "execution_count": 39,
   "id": "c00d4b38",
   "metadata": {},
   "outputs": [],
   "source": [
    "import open3d as o3d\n",
    "\n",
    "# 👉 ray 시각화용 데이터 초기화\n",
    "ray_lines = []\n",
    "ray_points = []\n",
    "line_colors = []\n",
    "\n",
    "# 기준점 (numpy 배열로 변환)\n",
    "origin_np = np.array(location_tuple)\n",
    "\n",
    "for j in range(RAY_COUNT):\n",
    "    angle_deg = j * (360 / RAY_COUNT)\n",
    "    angle_rad = math.radians(angle_deg)\n",
    "\n",
    "    # 방향 벡터\n",
    "    direction = np.array([math.cos(angle_rad), math.sin(angle_rad), 0.1])\n",
    "    direction /= np.linalg.norm(direction)\n",
    "\n",
    "    # ray 끝점\n",
    "    end = origin_np + direction * RAY_LENGTH\n",
    "\n",
    "    # 점 추가 (시작점, 끝점)\n",
    "    ray_points.append(origin_np)\n",
    "    ray_points.append(end)\n",
    "\n",
    "    # 선 인덱스\n",
    "    ray_lines.append([2 * j, 2 * j + 1])\n",
    "\n",
    "    # 선 색상 (빨간색)\n",
    "    if cross_list_list[0][j] == 0:\n",
    "        line_colors.append([0,0,0])\n",
    "    else:\n",
    "        line_colors.append([1, 0, 0])\n",
    "\n",
    "# 시각화용 라인셋 생성\n",
    "line_set = o3d.geometry.LineSet(\n",
    "    points=o3d.utility.Vector3dVector(ray_points),\n",
    "    lines=o3d.utility.Vector2iVector(ray_lines),\n",
    ")\n",
    "line_set.colors = o3d.utility.Vector3dVector(line_colors)\n",
    "\n",
    "# ✅ 시각화 실행 (중심점 제거됨)\n",
    "o3d.visualization.draw_geometries([line_set])\n"
   ]
  },
  {
   "cell_type": "markdown",
   "id": "0335b094",
   "metadata": {},
   "source": [
    "## 전체 ray객체 기준 distraction 간섭 객체개수 % 결과값 확인"
   ]
  },
  {
   "cell_type": "markdown",
   "id": "b33a59b2",
   "metadata": {},
   "source": [
    "# TEST\n"
   ]
  },
  {
   "cell_type": "code",
   "execution_count": null,
   "id": "5902b276",
   "metadata": {},
   "outputs": [],
   "source": []
  }
 ],
 "metadata": {
  "kernelspec": {
   "display_name": ".cnv_ifcopenshell_study",
   "language": "python",
   "name": "python3"
  },
  "language_info": {
   "codemirror_mode": {
    "name": "ipython",
    "version": 3
   },
   "file_extension": ".py",
   "mimetype": "text/x-python",
   "name": "python",
   "nbconvert_exporter": "python",
   "pygments_lexer": "ipython3",
   "version": "3.11.9"
  }
 },
 "nbformat": 4,
 "nbformat_minor": 5
}
