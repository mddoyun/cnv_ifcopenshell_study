{
 "cells": [
  {
   "cell_type": "markdown",
   "id": "0a16f212",
   "metadata": {},
   "source": [
    "## 필요 라이브러리 로드"
   ]
  },
  {
   "cell_type": "code",
   "execution_count": 171,
   "id": "1c5a6095",
   "metadata": {},
   "outputs": [],
   "source": [
    "import ifcopenshell\n",
    "import ifcopenshell.geom\n",
    "import ifcopenshell.util.shape\n",
    "import ifcopenshell.util.selector\n",
    "import numpy as np"
   ]
  },
  {
   "cell_type": "markdown",
   "id": "b38d9141",
   "metadata": {},
   "source": [
    "## ifc 파일 로드"
   ]
  },
  {
   "cell_type": "code",
   "execution_count": 172,
   "id": "4313e53a",
   "metadata": {},
   "outputs": [
    {
     "name": "stdout",
     "output_type": "stream",
     "text": [
      "ifc_file :  <ifcopenshell.file.file object at 0x0000028E21155E10>\n"
     ]
    }
   ],
   "source": [
    "ifc_file = ifcopenshell.open('sample.ifc')\n",
    "print('ifc_file : ', ifc_file)"
   ]
  },
  {
   "cell_type": "markdown",
   "id": "0ac0abda",
   "metadata": {},
   "source": [
    "## Target 객체 찾기"
   ]
  },
  {
   "cell_type": "code",
   "execution_count": 173,
   "id": "e170b9e9",
   "metadata": {},
   "outputs": [
    {
     "name": "stdout",
     "output_type": "stream",
     "text": [
      "{#1220=IfcWall('3Grk8JCXL0Wv356Wrvw3Rc',$,'Wall',$,$,#1620,#1228,$,$)}\n"
     ]
    }
   ],
   "source": [
    "list_of_target = ifcopenshell.util.selector.filter_elements(ifc_file, \"My_Data.cnv_class=target\")\n",
    "print(list_of_target)"
   ]
  },
  {
   "cell_type": "markdown",
   "id": "294d9de5",
   "metadata": {},
   "source": [
    "## Target 객체 위치 좌표점 가져오기"
   ]
  },
  {
   "cell_type": "code",
   "execution_count": 174,
   "id": "62b580b1",
   "metadata": {},
   "outputs": [
    {
     "name": "stdout",
     "output_type": "stream",
     "text": [
      "center :  [ 9.99999992e-01 -3.32796162e-09  1.50000000e+00]\n",
      "Rounded center point: [ 1.  -0.   1.5]\n"
     ]
    }
   ],
   "source": [
    "# geom 세팅 생성\n",
    "settings = ifcopenshell.geom.settings()\n",
    "settings.set(settings.USE_WORLD_COORDS, True)\n",
    "\n",
    "# Target 객체 반복\n",
    "for element in list_of_target:\n",
    "    # shape 가져오기\n",
    "    shape = ifcopenshell.geom.create_shape(settings, element)\n",
    "    geometry = shape.geometry\n",
    "    verts = np.array(geometry.verts).reshape(-1,3)\n",
    "    \n",
    "    #중심점 구하기\n",
    "    center = verts.mean(axis=0)\n",
    "    print('center : ', center)\n",
    "\n",
    "    # 소수점반올림\n",
    "    rounded_center = np.round(center, 3)\n",
    "    print(\"Rounded center point:\", rounded_center)\n",
    "\n",
    "\n",
    "\n",
    "    "
   ]
  },
  {
   "cell_type": "markdown",
   "id": "e0064ac0",
   "metadata": {},
   "source": [
    "## Target 객체 위치 좌표점으로부터 ray 생성(옵션 : ray개수입력(방사형))"
   ]
  },
  {
   "cell_type": "markdown",
   "id": "8118736e",
   "metadata": {},
   "source": [
    "## ray객체를 반복문으로 돌리며 My_Data.cnv_class=distraction 인 객체 찾기"
   ]
  },
  {
   "cell_type": "code",
   "execution_count": null,
   "id": "c00d4b38",
   "metadata": {},
   "outputs": [],
   "source": []
  },
  {
   "cell_type": "markdown",
   "id": "0335b094",
   "metadata": {},
   "source": [
    "## 전체 ray객체 기준 distraction 간섭 객체개수 % 결과값 확인"
   ]
  },
  {
   "cell_type": "markdown",
   "id": "b33a59b2",
   "metadata": {},
   "source": [
    "# TEST\n"
   ]
  },
  {
   "cell_type": "code",
   "execution_count": null,
   "id": "5902b276",
   "metadata": {},
   "outputs": [
    {
     "name": "stdout",
     "output_type": "stream",
     "text": [
      "(<ifcopenshell.ifcopenshell_wrapper.ray_intersection_result; proxy of <Swig Object of type 'IfcGeom::ray_intersection_result *' at 0x0000028E2128DF20> >, <ifcopenshell.ifcopenshell_wrapper.ray_intersection_result; proxy of <Swig Object of type 'IfcGeom::ray_intersection_result *' at 0x0000028E21371950> >)\n",
      "#1621=IfcWall('14CTxR01n8AOBlWZYP3AhA',$,'Wall',$,$,#1673,#1635,$,$)\n",
      "<Swig Object of type 'std::array< double,3 > *' at 0x0000028E2138B840>\n",
      "1.887776367734931\n",
      "-0.9999999999999811\n",
      "#1621=IfcWall('14CTxR01n8AOBlWZYP3AhA',$,'Wall',$,$,#1673,#1635,$,$)\n",
      "<Swig Object of type 'std::array< double,3 > *' at 0x0000028E2138B840>\n",
      "1.937776367734932\n",
      "0.9999999999999811\n"
     ]
    }
   ],
   "source": [
    "import multiprocessing\n",
    "import ifcopenshell\n",
    "import ifcopenshell.geom\n",
    "\n",
    "tree = ifcopenshell.geom.tree()\n",
    "settings = ifcopenshell.geom.settings()\n",
    "iterator = ifcopenshell.geom.iterator(settings, ifc_file, multiprocessing.cpu_count())\n",
    "if iterator.initialize():\n",
    "    while True:\n",
    "        # Use triangulation to build a BVH tree\n",
    "        # tree.add_element(iterator.get())\n",
    "\n",
    "        # Alternatively, use this code to build an unbalanced binary tree\n",
    "        tree.add_element(iterator.get_native())\n",
    "\n",
    "        if not iterator.next():\n",
    "            break\n",
    "\n",
    "\n",
    "origin = (0., 0., 0.)\n",
    "direction = (1., 0., 0.)\n",
    "results = tree.select_ray(origin, direction, length=50.)\n",
    "print(results)\n",
    "for result in results:\n",
    "    print(ifc_file.by_id(result.instance.id())) # The element the ray intersects with\n",
    "    print(list(result.position)) # The XYZ intersection point\n",
    "    print(result.distance) # The distance between the ray origin and the intersection\n",
    "    print(list(result.normal)) # The normal of the face being intersected\n",
    "    print(result.dot_product) # The dot product of the face being intersected with the ray\n",
    "\n",
    "\n",
    "\n",
    "        \n"
   ]
  }
 ],
 "metadata": {
  "kernelspec": {
   "display_name": ".cnv_ifcopenshell_study",
   "language": "python",
   "name": "python3"
  },
  "language_info": {
   "codemirror_mode": {
    "name": "ipython",
    "version": 3
   },
   "file_extension": ".py",
   "mimetype": "text/x-python",
   "name": "python",
   "nbconvert_exporter": "python",
   "pygments_lexer": "ipython3",
   "version": "3.11.9"
  }
 },
 "nbformat": 4,
 "nbformat_minor": 5
}
